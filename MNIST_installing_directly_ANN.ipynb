# MNIST (Image Classification with Neural Networks-ANN)
#Digits: 0 - 9

!pip install tensorflow
!pip install keras
!pip install mnist
!pip install numpy
!pip install matplotlib


# Importing the packages/dependencies
import numpy as np
import mnist#Fetching Dataset
import matplotlib.pyplot as plt #Graph
from keras.models import Sequential #ANN Architecture
from keras.layers import Dense
from keras.utils import to_categorical


#Loading the Dataset
train_images = mnist.train_images()#Training
train_labels = mnist.train_labels()#Training
test_images = mnist.test_images()#Testing
test_labels = mnist.test_labels()#Testing

#Normalize Images and pixel values
#[0, 255] -->[-0.5, 0.5] to make the network easier to train 
train_images = (train_images/255) - 0.5
test_images = (test_images/255) - 0.5

#Flatten the images from 28 X 28 image into a 28^2 = 784 dimensional vector to pass into the Neural Network
train_images = train_images.reshape((-1, 784))
test_images = test_images.reshape((-1, 784))

#Print the Shape
print(train_images.shape)#We'll get 60,000 rows and 784 columns
print(test_images.shape)#We'll get 10,000 rows and 784 columns

#Building the Model
# 3 Layers, 2 Layesrs with 64 Neurons and Relu function
#1 Layer with 10 Neurons and softmax function
model = Sequential()
model.add(Dense(64, activation = 'relu', input_dim = 784))
model.add(Dense(64, activation = 'relu'))
model.add(Dense(10, activation = 'softmax'))

#Compilation // RUN THIS IN A SEPARATE BLOCK
#Optimiser
#Loss function measures how well the model did on training and then  tries to improve on it using the optimizer
model.compile(
     optimizer = 'adam', # Adaptive Moment Estimation
     loss = 'categorical_crossentropy',#not binary entropy since it has more than 2 classes 
     metrics = ['accuracy']
	)


#Train The Model // RUN IN A SEPARATE BLOCK
model.fit(
    train_images,
    to_categorical(train_labels),# will give a number from 0-9 as output and expecting a 10-dimensional vector
#eg. For 9 it expects a 10-dimensional vector [0,0,0,0,0,0,0,0,0,1]
    epochs = 5, #Trains the dataset 5 times
  	batch_size = 32, # The no. of samples per gradient update for the training
	)
# Loss and Accuracy varies inversely and the accuracy slowly increases in time


#Evaluate the Model / / RUN IN A SEPARATE BLOCK
model.evaluate(
	test_images,
	to_categorical(test_labels)
	)

#Predictions on the first 5 test images
predictions = model.predict(test_images[:5])
print(np.argmax(predictions, axis = 1)) # This statement prints the numbers that the model is predicting
print(test_labels[:5]) # This statement prints the numbers that are actually present


for i in range (0, 5):
	first_image = test_images[i]
	first_image = np.array(first_image, dtype = 'float')
	pixels = first_image.reshape((28,28))
	plt.imshow(pixels)#For colour or we can just add " , cmap = 'gray' " for getting the image in black n white
	plt.show()






