#MNIST-CNN

#Importing Libraries
from keras.models import Sequential
from keras.layers import Dense, Conv2D, Flatten
from keras.datasets import mnist
from keras.utils import to_categorical
import matplotlib.pyplot as plt
import numpy as np

#Loading the Data
(X_train, Y_train), (X_test, Y_test) = mnist.load_data()

#Getting the shape of the Image
print(X_train.shape)
print(X_test.shape)

#Take a look at the First Image located at Index Zero
X_train[0]

#Print the Image Label
Y_train[0]

#Seeing the Image as a picture
plt.imshow(X_train[0])

#Reshaping the Data to fit the Model/  / RUN SEPARATELY
X_train = X_train.reshape(60000, 28, 28, 1)#Depth of 1 is a grayscale depiction
X_test = X_test.reshape(10000, 28, 28, 1)

#One Hot Encoding(OHE)
Y_train_OHE = to_categorical(Y_train)
Y_test_OHE = to_categorical(Y_test)

#Print the New Label
print(Y_train_OHE[0])#Since the label is 5 ,we'll get 1 only in the placec of 5 and the remaining places are depicted by zero(This step is to understand the working of OHE)

#Building the CNN Model
model = Sequential()

#Adding Layers
model.add(Conv2D(64, kernel_size = 3, activation = 'relu', input_shape = (28, 28, 1)))
model.add(Conv2D(32, kernel_size = 3, activation = 'relu'))
model.add(Flatten())
model.add(Dense(10, activation = 'softmax'))

#Compilation
model.compile(optimizer = 'adam', loss = 'categorical_crossentropy', metrics = ['accuracy'])


#Training the Model
hist = model.fit(X_train, Y_train_OHE, validation_data = (X_test, Y_test_OHE), epochs = 3)#Default batch_size = 32


#Determining the Accuracy on the Training Data
plt.plot(hist.history['accuracy'])
plt.plot(hist.history['val_accuracy'])
plt.title('Model Accuracy')
plt.ylabel('Accuracy')
plt.xlabel('Epoch')
plt.legend(['Train', 'Val'], loc = 'upper left')
plt.show()


#Showing predictions for the first 5 images
predictions = model.predict(X_test[:5])
predictions

#Checking if the label values are matching with 
print(np.argmax(predictions, axis = 1))#Label values for the predictions
print(Y_test[:5])#Actual label values for the first 5 digits



#Now just repeating the same comparison with the images
for i in range(0, 5):
	image = X_test[i]
	image = np.array(image, dtype = 'float')
	pixels = image.reshape((28, 28))
	plt.imshow(pixels, cmap = 'gray')
	plt.show()




